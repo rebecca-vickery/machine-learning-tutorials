{
 "cells": [
  {
   "cell_type": "code",
   "execution_count": 3,
   "id": "dcb3efe4",
   "metadata": {},
   "outputs": [],
   "source": [
    "import pandas as pd\n",
    "\n",
    "pd.set_option('display.max_columns', None) \n",
    "pd.set_option('display.float_format', lambda x: '%.2f' % x)"
   ]
  },
  {
   "cell_type": "code",
   "execution_count": 4,
   "id": "0bcbfa57",
   "metadata": {},
   "outputs": [
    {
     "data": {
      "text/html": [
       "<div>\n",
       "<style scoped>\n",
       "    .dataframe tbody tr th:only-of-type {\n",
       "        vertical-align: middle;\n",
       "    }\n",
       "\n",
       "    .dataframe tbody tr th {\n",
       "        vertical-align: top;\n",
       "    }\n",
       "\n",
       "    .dataframe thead th {\n",
       "        text-align: right;\n",
       "    }\n",
       "</style>\n",
       "<table border=\"1\" class=\"dataframe\">\n",
       "  <thead>\n",
       "    <tr style=\"text-align: right;\">\n",
       "      <th></th>\n",
       "      <th>checking_status</th>\n",
       "      <th>duration</th>\n",
       "      <th>credit_history</th>\n",
       "      <th>purpose</th>\n",
       "      <th>credit_amount</th>\n",
       "      <th>savings_status</th>\n",
       "      <th>employment</th>\n",
       "      <th>installment_commitment</th>\n",
       "      <th>personal_status</th>\n",
       "      <th>other_parties</th>\n",
       "      <th>residence_since</th>\n",
       "      <th>property_magnitude</th>\n",
       "      <th>age</th>\n",
       "      <th>other_payment_plans</th>\n",
       "      <th>housing</th>\n",
       "      <th>existing_credits</th>\n",
       "      <th>job</th>\n",
       "      <th>num_dependents</th>\n",
       "      <th>own_telephone</th>\n",
       "      <th>foreign_worker</th>\n",
       "      <th>target</th>\n",
       "    </tr>\n",
       "  </thead>\n",
       "  <tbody>\n",
       "    <tr>\n",
       "      <th>0</th>\n",
       "      <td>&lt;0</td>\n",
       "      <td>6.00</td>\n",
       "      <td>critical/other existing credit</td>\n",
       "      <td>radio/tv</td>\n",
       "      <td>1169.00</td>\n",
       "      <td>no known savings</td>\n",
       "      <td>&gt;=7</td>\n",
       "      <td>4.00</td>\n",
       "      <td>male single</td>\n",
       "      <td>none</td>\n",
       "      <td>4.00</td>\n",
       "      <td>real estate</td>\n",
       "      <td>67.00</td>\n",
       "      <td>none</td>\n",
       "      <td>own</td>\n",
       "      <td>2.00</td>\n",
       "      <td>skilled</td>\n",
       "      <td>1.00</td>\n",
       "      <td>yes</td>\n",
       "      <td>yes</td>\n",
       "      <td>good</td>\n",
       "    </tr>\n",
       "    <tr>\n",
       "      <th>1</th>\n",
       "      <td>0&lt;=X&lt;200</td>\n",
       "      <td>48.00</td>\n",
       "      <td>existing paid</td>\n",
       "      <td>radio/tv</td>\n",
       "      <td>5951.00</td>\n",
       "      <td>&lt;100</td>\n",
       "      <td>1&lt;=X&lt;4</td>\n",
       "      <td>2.00</td>\n",
       "      <td>female div/dep/mar</td>\n",
       "      <td>none</td>\n",
       "      <td>2.00</td>\n",
       "      <td>real estate</td>\n",
       "      <td>22.00</td>\n",
       "      <td>none</td>\n",
       "      <td>own</td>\n",
       "      <td>1.00</td>\n",
       "      <td>skilled</td>\n",
       "      <td>1.00</td>\n",
       "      <td>none</td>\n",
       "      <td>yes</td>\n",
       "      <td>bad</td>\n",
       "    </tr>\n",
       "    <tr>\n",
       "      <th>2</th>\n",
       "      <td>no checking</td>\n",
       "      <td>12.00</td>\n",
       "      <td>critical/other existing credit</td>\n",
       "      <td>education</td>\n",
       "      <td>2096.00</td>\n",
       "      <td>&lt;100</td>\n",
       "      <td>4&lt;=X&lt;7</td>\n",
       "      <td>2.00</td>\n",
       "      <td>male single</td>\n",
       "      <td>none</td>\n",
       "      <td>3.00</td>\n",
       "      <td>real estate</td>\n",
       "      <td>49.00</td>\n",
       "      <td>none</td>\n",
       "      <td>own</td>\n",
       "      <td>1.00</td>\n",
       "      <td>unskilled resident</td>\n",
       "      <td>2.00</td>\n",
       "      <td>none</td>\n",
       "      <td>yes</td>\n",
       "      <td>good</td>\n",
       "    </tr>\n",
       "    <tr>\n",
       "      <th>3</th>\n",
       "      <td>&lt;0</td>\n",
       "      <td>42.00</td>\n",
       "      <td>existing paid</td>\n",
       "      <td>furniture/equipment</td>\n",
       "      <td>7882.00</td>\n",
       "      <td>&lt;100</td>\n",
       "      <td>4&lt;=X&lt;7</td>\n",
       "      <td>2.00</td>\n",
       "      <td>male single</td>\n",
       "      <td>guarantor</td>\n",
       "      <td>4.00</td>\n",
       "      <td>life insurance</td>\n",
       "      <td>45.00</td>\n",
       "      <td>none</td>\n",
       "      <td>for free</td>\n",
       "      <td>1.00</td>\n",
       "      <td>skilled</td>\n",
       "      <td>2.00</td>\n",
       "      <td>none</td>\n",
       "      <td>yes</td>\n",
       "      <td>good</td>\n",
       "    </tr>\n",
       "    <tr>\n",
       "      <th>4</th>\n",
       "      <td>&lt;0</td>\n",
       "      <td>24.00</td>\n",
       "      <td>delayed previously</td>\n",
       "      <td>new car</td>\n",
       "      <td>4870.00</td>\n",
       "      <td>&lt;100</td>\n",
       "      <td>1&lt;=X&lt;4</td>\n",
       "      <td>3.00</td>\n",
       "      <td>male single</td>\n",
       "      <td>none</td>\n",
       "      <td>4.00</td>\n",
       "      <td>no known property</td>\n",
       "      <td>53.00</td>\n",
       "      <td>none</td>\n",
       "      <td>for free</td>\n",
       "      <td>2.00</td>\n",
       "      <td>skilled</td>\n",
       "      <td>2.00</td>\n",
       "      <td>none</td>\n",
       "      <td>yes</td>\n",
       "      <td>bad</td>\n",
       "    </tr>\n",
       "  </tbody>\n",
       "</table>\n",
       "</div>"
      ],
      "text/plain": [
       "  checking_status  duration                  credit_history  \\\n",
       "0              <0      6.00  critical/other existing credit   \n",
       "1        0<=X<200     48.00                   existing paid   \n",
       "2     no checking     12.00  critical/other existing credit   \n",
       "3              <0     42.00                   existing paid   \n",
       "4              <0     24.00              delayed previously   \n",
       "\n",
       "               purpose  credit_amount    savings_status employment  \\\n",
       "0             radio/tv        1169.00  no known savings        >=7   \n",
       "1             radio/tv        5951.00              <100     1<=X<4   \n",
       "2            education        2096.00              <100     4<=X<7   \n",
       "3  furniture/equipment        7882.00              <100     4<=X<7   \n",
       "4              new car        4870.00              <100     1<=X<4   \n",
       "\n",
       "   installment_commitment     personal_status other_parties  residence_since  \\\n",
       "0                    4.00         male single          none             4.00   \n",
       "1                    2.00  female div/dep/mar          none             2.00   \n",
       "2                    2.00         male single          none             3.00   \n",
       "3                    2.00         male single     guarantor             4.00   \n",
       "4                    3.00         male single          none             4.00   \n",
       "\n",
       "  property_magnitude   age other_payment_plans   housing  existing_credits  \\\n",
       "0        real estate 67.00                none       own              2.00   \n",
       "1        real estate 22.00                none       own              1.00   \n",
       "2        real estate 49.00                none       own              1.00   \n",
       "3     life insurance 45.00                none  for free              1.00   \n",
       "4  no known property 53.00                none  for free              2.00   \n",
       "\n",
       "                  job  num_dependents own_telephone foreign_worker target  \n",
       "0             skilled            1.00           yes            yes   good  \n",
       "1             skilled            1.00          none            yes    bad  \n",
       "2  unskilled resident            2.00          none            yes   good  \n",
       "3             skilled            2.00          none            yes   good  \n",
       "4             skilled            2.00          none            yes    bad  "
      ]
     },
     "execution_count": 4,
     "metadata": {},
     "output_type": "execute_result"
    }
   ],
   "source": [
    "from sklearn.datasets import fetch_openml \n",
    "\n",
    "X,y = fetch_openml(name='credit-g', as_frame=True, return_X_y=True)\n",
    "df = X\n",
    "df['target'] = y\n",
    "df.head()"
   ]
  },
  {
   "cell_type": "code",
   "execution_count": 5,
   "id": "11fcc3fb",
   "metadata": {},
   "outputs": [
    {
     "data": {
      "text/plain": [
       "checking_status           category\n",
       "duration                   float64\n",
       "credit_history            category\n",
       "purpose                   category\n",
       "credit_amount              float64\n",
       "savings_status            category\n",
       "employment                category\n",
       "installment_commitment     float64\n",
       "personal_status           category\n",
       "other_parties             category\n",
       "residence_since            float64\n",
       "property_magnitude        category\n",
       "age                        float64\n",
       "other_payment_plans       category\n",
       "housing                   category\n",
       "existing_credits           float64\n",
       "job                       category\n",
       "num_dependents             float64\n",
       "own_telephone             category\n",
       "foreign_worker            category\n",
       "target                    category\n",
       "dtype: object"
      ]
     },
     "execution_count": 5,
     "metadata": {},
     "output_type": "execute_result"
    }
   ],
   "source": [
    "df.dtypes"
   ]
  },
  {
   "cell_type": "code",
   "execution_count": null,
   "id": "3af37e96",
   "metadata": {},
   "outputs": [],
   "source": [
    "df.groupby(['job']).mean()"
   ]
  },
  {
   "cell_type": "code",
   "execution_count": null,
   "id": "0e6719c8",
   "metadata": {},
   "outputs": [],
   "source": [
    "df[['job', 'credit_amount', 'age']].groupby(['job']).agg(\n",
    "    {'credit_amount': ['min', 'max'], 'age': 'mean'})"
   ]
  },
  {
   "cell_type": "code",
   "execution_count": null,
   "id": "7a646f4a",
   "metadata": {},
   "outputs": [],
   "source": [
    "job_count = df[['job', 'target']].groupby(['job', 'target']).agg({'target': 'count'})\n",
    "\n",
    "job_percent = job_count.groupby(level=0).apply(lambda x:\n",
    "                                                 100 * x / float(x.sum()))\n",
    "job_percent"

    # Assuming df is your DataFrame

     job_count = df.groupby(['job', 'target']).size().reset_index(name='count')
     
     job_percent = job_count.groupby('job').apply(lambda x:
                                                  x.assign(percentage=lambda df: 100 * df['count'] / df['count'].sum()))
     
     job_percent = job_percent.droplevel(1).reset_index(drop=True)

   ]
  },
  {
   "cell_type": "code",
   "execution_count": null,
   "id": "2e142beb",
   "metadata": {},
   "outputs": [],
   "source": [
    "df.groupby(['job', 'target'])['job'].count().unstack('target').fillna(0).plot(kind='bar', \n",
    "                                                                              stacked=True)\n"
   ]
  },
  {
   "cell_type": "code",
   "execution_count": null,
   "id": "60fd01eb",
   "metadata": {},
   "outputs": [],
   "source": [
    "df[['target', 'credit_amount']].groupby(['target']).agg({'credit_amount':'mean'}).plot.box()"
   ]
  },
  {
   "cell_type": "code",
   "execution_count": null,
   "id": "355f704f",
   "metadata": {},
   "outputs": [],
   "source": [
    "df[['target', 'credit_amount', 'age']].groupby('target').agg(\n",
    "    min_credit_amount=pd.NamedAgg('credit_amount', 'min'),\n",
    "    max_credit_amount=pd.NamedAgg('credit_amount', 'max'),\n",
    "    average_age=pd.NamedAgg('age', 'mean'))"
   ]
  },
  {
   "cell_type": "code",
   "execution_count": null,
   "id": "9aef3ba2",
   "metadata": {},
   "outputs": [],
   "source": [
    "df[['duration', 'target']].groupby('target').boxplot()  "
   ]
  },
  {
   "cell_type": "code",
   "execution_count": null,
   "id": "29301323",
   "metadata": {},
   "outputs": [],
   "source": []
  }
 ],
 "metadata": {
  "kernelspec": {
   "display_name": "Python 3.5.7",
   "language": "python",
   "name": "organges"
  },
  "language_info": {
   "codemirror_mode": {
    "name": "ipython",
    "version": 3
   },
   "file_extension": ".py",
   "mimetype": "text/x-python",
   "name": "python",
   "nbconvert_exporter": "python",
   "pygments_lexer": "ipython3",
   "version": "3.7.5"
  }
 },
 "nbformat": 4,
 "nbformat_minor": 5
}
